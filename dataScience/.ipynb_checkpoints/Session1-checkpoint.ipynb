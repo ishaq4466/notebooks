{
 "cells": [
  {
   "cell_type": "code",
   "execution_count": 2,
   "metadata": {
    "collapsed": true
   },
   "outputs": [],
   "source": [
    "## DATA filterng and selecting"
   ]
  },
  {
   "cell_type": "code",
   "execution_count": 2,
   "metadata": {},
   "outputs": [
    {
     "data": {
      "text/plain": [
       "row1    0\n",
       "row2    1\n",
       "row3    2\n",
       "row4    3\n",
       "row5    4\n",
       "row6    5\n",
       "row7    6\n",
       "row8    7\n",
       "dtype: int64"
      ]
     },
     "execution_count": 2,
     "metadata": {},
     "output_type": "execute_result"
    }
   ],
   "source": [
    "import pandas as pd\n",
    "import numpy as np\n",
    "from pandas import Series, DataFrame\n",
    "\n",
    "\n",
    "# making a series object using np\n",
    "# index each row with label row1,row2,row3....\n",
    "series = Series(np.arange(8) ,index=[\"row\"+str(x) for x in range(1,9)])\n",
    "series"
   ]
  },
  {
   "cell_type": "code",
   "execution_count": null,
   "metadata": {
    "collapsed": true
   },
   "outputs": [],
   "source": [
    "# retriving data using interger and label index\n",
    "series[0]"
   ]
  },
  {
   "cell_type": "code",
   "execution_count": 8,
   "metadata": {
    "collapsed": true
   },
   "outputs": [],
   "source": [
    "# retriving using labe index\n",
    "series['row2']"
   ]
  },
  {
   "cell_type": "code",
   "execution_count": 11,
   "metadata": {},
   "outputs": [
    {
     "data": {
      "text/plain": [
       "row1    0\n",
       "row2    1\n",
       "dtype: int64"
      ]
     },
     "execution_count": 11,
     "metadata": {},
     "output_type": "execute_result"
    }
   ],
   "source": [
    "# Slicing the series\n",
    "series[['row1','row2']]"
   ]
  },
  {
   "cell_type": "code",
   "execution_count": 9,
   "metadata": {},
   "outputs": [
    {
     "data": {
      "text/plain": [
       "row1    0\n",
       "row2    1\n",
       "dtype: int64"
      ]
     },
     "execution_count": 9,
     "metadata": {},
     "output_type": "execute_result"
    }
   ],
   "source": [
    "series[0:2]"
   ]
  },
  {
   "cell_type": "code",
   "execution_count": 20,
   "metadata": {},
   "outputs": [
    {
     "data": {
      "text/plain": [
       "row1    0\n",
       "row2    1\n",
       "row3    2\n",
       "row4    3\n",
       "row5    4\n",
       "row6    5\n",
       "row7    6\n",
       "row8    7\n",
       "dtype: int64"
      ]
     },
     "execution_count": 20,
     "metadata": {},
     "output_type": "execute_result"
    }
   ],
   "source": [
    "series['row1':'row7']"
   ]
  },
  {
   "cell_type": "code",
   "execution_count": null,
   "metadata": {
    "collapsed": true
   },
   "outputs": [],
   "source": [
    "series1 = Series(np.arange(8), index=[\"row\"+str(x) for x in range(1,9)])\n",
    "df =DataFrame(np.arange(64).reshape(8,8),index=[\"row\"+str(x) for x in range(1,9)], columns=[\"col\"+str(x) for x in range(1,9)])\n",
    "#df.isnull.value.any()"
   ]
  },
  {
   "cell_type": "code",
   "execution_count": 41,
   "metadata": {},
   "outputs": [
    {
     "data": {
      "text/plain": [
       "0     0.732267\n",
       "1     0.567189\n",
       "2     0.301224\n",
       "3     0.780583\n",
       "4     0.497874\n",
       "5     0.118910\n",
       "6     0.388560\n",
       "7     0.394643\n",
       "8     0.337526\n",
       "9     0.082551\n",
       "10    0.365198\n",
       "11    0.408891\n",
       "12    0.933265\n",
       "13    0.291992\n",
       "14    0.838641\n",
       "15    0.989218\n",
       "16    0.415274\n",
       "17    0.697089\n",
       "18    0.959929\n",
       "19    0.438987\n",
       "20    0.686484\n",
       "21    0.297152\n",
       "22    0.977922\n",
       "23    0.693322\n",
       "24    0.031787\n",
       "dtype: float64"
      ]
     },
     "execution_count": 41,
     "metadata": {},
     "output_type": "execute_result"
    }
   ],
   "source": [
    "np.random.seed(98)\n",
    "s=Series(np.random.rand(25))\n",
    "s\n"
   ]
  }
 ],
 "metadata": {
  "kernelspec": {
   "display_name": "Python 3",
   "language": "python",
   "name": "python3"
  },
  "language_info": {
   "codemirror_mode": {
    "name": "ipython",
    "version": 3
   },
   "file_extension": ".py",
   "mimetype": "text/x-python",
   "name": "python",
   "nbconvert_exporter": "python",
   "pygments_lexer": "ipython3",
   "version": "3.6.1"
  }
 },
 "nbformat": 4,
 "nbformat_minor": 2
}
