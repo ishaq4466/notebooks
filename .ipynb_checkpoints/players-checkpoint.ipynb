{
 "cells": [
  {
   "cell_type": "markdown",
   "metadata": {},
   "source": [
    "# Step1: structuring our data to dictionary"
   ]
  },
  {
   "cell_type": "code",
   "execution_count": null,
   "metadata": {
    "collapsed": true
   },
   "outputs": [],
   "source": [
    "df={\"Rahul\":\"232\", \"Sonia\":\"323*\", \"Salman\":\"54\", \"sharukh\":\"445\", \"sachin\":\"465*\"}\n",
    "print(df)\n",
    "\n",
    "for x,v in df.items():\n",
    "    print(x,\":\",v)"
   ]
  },
  {
   "cell_type": "markdown",
   "metadata": {},
   "source": [
    "##  Step2: Getting the scores of out and not out players and stroring it into lists"
   ]
  },
  {
   "cell_type": "code",
   "execution_count": null,
   "metadata": {
    "collapsed": true
   },
   "outputs": [],
   "source": [
    "not_out=[]\n",
    "out=[]\n",
    "for x in df.values():\n",
    "        if x[-1]==\"*\":\n",
    "           # print(x)\n",
    "            not_out.append(int(x[:-1]))\n",
    "        else:\n",
    "            out.append(int(x))\n",
    "print(\"Not_out:\",not_out,\"Out:\",out)"
   ]
  },
  {
   "cell_type": "markdown",
   "metadata": {},
   "source": [
    "## Step3: Sorting the out and not out scores"
   ]
  },
  {
   "cell_type": "code",
   "execution_count": null,
   "metadata": {
    "collapsed": true
   },
   "outputs": [],
   "source": [
    "not_out.sort()\n",
    "out.sort()\n",
    "print(\"Not_out:\",not_out,\"Out:\",out)"
   ]
  },
  {
   "cell_type": "code",
   "execution_count": null,
   "metadata": {
    "collapsed": true
   },
   "outputs": [],
   "source": [
    "##  Step4:taking the maximum score from out and not out list"
   ]
  },
  {
   "cell_type": "code",
   "execution_count": null,
   "metadata": {
    "collapsed": true
   },
   "outputs": [],
   "source": [
    "max_out=str(out[len(out)-1])\n",
    "max_not_out=not_out[len(not_out)-1]\n",
    "max_not_out=str(max_not_out)+\"*\"\n",
    "print(max_out,max_not_out)"
   ]
  },
  {
   "cell_type": "markdown",
   "metadata": {},
   "source": [
    "## Step4: Finding the player names in the our players dictionary"
   ]
  },
  {
   "cell_type": "code",
   "execution_count": null,
   "metadata": {
    "collapsed": true
   },
   "outputs": [],
   "source": [
    "for name, score in df.items():    # for name, age in list.items():  (for Python 3.x)\n",
    "    if score == max_not_out :\n",
    "        print(\"Maximum scored player(not_out):\",name,score)\n",
    "    if score==max_out:\n",
    "        print(\"Maximum scored out player:\",name,score)"
   ]
  }
 ],
 "metadata": {
  "kernelspec": {
   "display_name": "Python 3",
   "language": "python",
   "name": "python3"
  },
  "language_info": {
   "codemirror_mode": {
    "name": "ipython",
    "version": 3
   },
   "file_extension": ".py",
   "mimetype": "text/x-python",
   "name": "python",
   "nbconvert_exporter": "python",
   "pygments_lexer": "ipython3",
   "version": "3.6.1"
  }
 },
 "nbformat": 4,
 "nbformat_minor": 2
}
