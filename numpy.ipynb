{
 "cells": [
  {
   "cell_type": "code",
   "execution_count": 1,
   "id": "insured-lawsuit",
   "metadata": {},
   "outputs": [],
   "source": [
    "import numpy as np"
   ]
  },
  {
   "cell_type": "code",
   "execution_count": 2,
   "id": "cognitive-bicycle",
   "metadata": {},
   "outputs": [],
   "source": [
    "alist = [1,34,5,54,55]"
   ]
  },
  {
   "cell_type": "code",
   "execution_count": 3,
   "id": "undefined-spokesman",
   "metadata": {},
   "outputs": [],
   "source": [
    "arr = np.array(alist)"
   ]
  },
  {
   "cell_type": "code",
   "execution_count": 4,
   "id": "iraqi-corruption",
   "metadata": {},
   "outputs": [
    {
     "name": "stdout",
     "output_type": "stream",
     "text": [
      "[ 1 34  5 54 55]\n"
     ]
    }
   ],
   "source": [
    "print(arr)"
   ]
  },
  {
   "cell_type": "code",
   "execution_count": 5,
   "id": "viral-dividend",
   "metadata": {},
   "outputs": [
    {
     "data": {
      "text/plain": [
       "55"
      ]
     },
     "execution_count": 5,
     "metadata": {},
     "output_type": "execute_result"
    }
   ],
   "source": [
    "arr.max()"
   ]
  },
  {
   "cell_type": "code",
   "execution_count": 6,
   "id": "offshore-lewis",
   "metadata": {},
   "outputs": [
    {
     "data": {
      "text/plain": [
       "29.8"
      ]
     },
     "execution_count": 6,
     "metadata": {},
     "output_type": "execute_result"
    }
   ],
   "source": [
    "arr.mean()"
   ]
  },
  {
   "cell_type": "code",
   "execution_count": null,
   "id": "purple-invitation",
   "metadata": {},
   "outputs": [],
   "source": [
    "# vector addition\n",
    "v1 = np.array([1,8])\n",
    "v2 = np.array([9,9])\n",
    "v3 = v1 + v2\n",
    "print(v3)"
   ]
  },
  {
   "cell_type": "code",
   "execution_count": null,
   "id": "weird-identification",
   "metadata": {},
   "outputs": [],
   "source": [
    "# multiplying scalar to a vector\n",
    "print(v3*2)"
   ]
  },
  {
   "cell_type": "code",
   "execution_count": null,
   "id": "valued-reggae",
   "metadata": {},
   "outputs": [],
   "source": [
    "# dot product\n",
    "v3 = v1*v2\n",
    "print(v3)"
   ]
  },
  {
   "cell_type": "code",
   "execution_count": 36,
   "id": "progressive-scholarship",
   "metadata": {},
   "outputs": [
    {
     "ename": "ModuleNotFoundError",
     "evalue": "No module named 'matplotlib'",
     "output_type": "error",
     "traceback": [
      "\u001b[0;31m---------------------------------------------------------------------------\u001b[0m",
      "\u001b[0;31mModuleNotFoundError\u001b[0m                       Traceback (most recent call last)",
      "\u001b[0;32m<ipython-input-36-492f04ae69d8>\u001b[0m in \u001b[0;36m<module>\u001b[0;34m\u001b[0m\n\u001b[0;32m----> 1\u001b[0;31m \u001b[0;32mimport\u001b[0m \u001b[0mmatplotlib\u001b[0m\u001b[0;34m.\u001b[0m\u001b[0mpyplot\u001b[0m \u001b[0;32mas\u001b[0m \u001b[0mplt\u001b[0m\u001b[0;34m\u001b[0m\u001b[0;34m\u001b[0m\u001b[0m\n\u001b[0m\u001b[1;32m      2\u001b[0m \u001b[0;34m\u001b[0m\u001b[0m\n\u001b[1;32m      3\u001b[0m \u001b[0;31m# linspace, will create a dummy dataset e^4\u001b[0m\u001b[0;34m\u001b[0m\u001b[0;34m\u001b[0m\u001b[0;34m\u001b[0m\u001b[0m\n\u001b[1;32m      4\u001b[0m \u001b[0mx\u001b[0m \u001b[0;34m=\u001b[0m \u001b[0mnp\u001b[0m\u001b[0;34m.\u001b[0m\u001b[0mlinspace\u001b[0m\u001b[0;34m(\u001b[0m\u001b[0;36m0\u001b[0m\u001b[0;34m,\u001b[0m\u001b[0mnp\u001b[0m\u001b[0;34m.\u001b[0m\u001b[0me\u001b[0m\u001b[0;34m**\u001b[0m\u001b[0;36m4\u001b[0m\u001b[0;34m,\u001b[0m\u001b[0;36m50\u001b[0m\u001b[0;34m)\u001b[0m\u001b[0;34m\u001b[0m\u001b[0;34m\u001b[0m\u001b[0m\n",
      "\u001b[0;31mModuleNotFoundError\u001b[0m: No module named 'matplotlib'"
     ]
    }
   ],
   "source": [
    "import matplotlib.pyplot as plt\n",
    "\n",
    "# linspace, will create a dummy dataset e^4 \n",
    "x = np.linspace(0,np.e**4,50)\n"
   ]
  },
  {
   "cell_type": "code",
   "execution_count": 10,
   "id": "solar-hayes",
   "metadata": {},
   "outputs": [
    {
     "name": "stderr",
     "output_type": "stream",
     "text": [
      "<ipython-input-10-f74e3f4aaf04>:1: RuntimeWarning: divide by zero encountered in log\n",
      "  y=np.log(x)\n"
     ]
    }
   ],
   "source": [
    "y=np.log(x)\n"
   ]
  },
  {
   "cell_type": "code",
   "execution_count": 2,
   "id": "accomplished-fountain",
   "metadata": {},
   "outputs": [
    {
     "ename": "NameError",
     "evalue": "name 'plt' is not defined",
     "output_type": "error",
     "traceback": [
      "\u001b[0;31m---------------------------------------------------------------------------\u001b[0m",
      "\u001b[0;31mNameError\u001b[0m                                 Traceback (most recent call last)",
      "\u001b[0;32m<ipython-input-2-31e9b36c7be9>\u001b[0m in \u001b[0;36m<module>\u001b[0;34m\u001b[0m\n\u001b[0;32m----> 1\u001b[0;31m \u001b[0mplt\u001b[0m\u001b[0;34m.\u001b[0m\u001b[0mplot\u001b[0m\u001b[0;34m(\u001b[0m\u001b[0my\u001b[0m\u001b[0;34m)\u001b[0m\u001b[0;34m\u001b[0m\u001b[0;34m\u001b[0m\u001b[0m\n\u001b[0m",
      "\u001b[0;31mNameError\u001b[0m: name 'plt' is not defined"
     ]
    }
   ],
   "source": [
    "plt.plot(y)\n"
   ]
  },
  {
   "cell_type": "code",
   "execution_count": 4,
   "id": "statistical-patent",
   "metadata": {},
   "outputs": [],
   "source": [
    "import numpy as np"
   ]
  },
  {
   "cell_type": "code",
   "execution_count": 8,
   "id": "colonial-primary",
   "metadata": {},
   "outputs": [],
   "source": [
    "array = np.array([12,3,44,55,55,33])"
   ]
  },
  {
   "cell_type": "code",
   "execution_count": 10,
   "id": "brief-variable",
   "metadata": {},
   "outputs": [
    {
     "name": "stdout",
     "output_type": "stream",
     "text": [
      "[12  3 44 55 55 33]\n"
     ]
    }
   ],
   "source": [
    "print(array)"
   ]
  },
  {
   "cell_type": "code",
   "execution_count": 12,
   "id": "linear-postage",
   "metadata": {},
   "outputs": [
    {
     "name": "stdout",
     "output_type": "stream",
     "text": [
      "55\n"
     ]
    }
   ],
   "source": [
    "print(np.max(array))"
   ]
  },
  {
   "cell_type": "code",
   "execution_count": 14,
   "id": "qualified-poker",
   "metadata": {},
   "outputs": [
    {
     "name": "stdout",
     "output_type": "stream",
     "text": [
      "[ 12.  45.   4.  54. 445.]\n"
     ]
    }
   ],
   "source": [
    "alist = [12,45,4,54,445]\n",
    "print(np.array(alist,float))"
   ]
  },
  {
   "cell_type": "code",
   "execution_count": 17,
   "id": "celtic-surprise",
   "metadata": {},
   "outputs": [],
   "source": [
    "v1 = np.array([12,34])\n",
    "v2 = np.array([23,45])\n",
    "v3 = v1 + v2 "
   ]
  },
  {
   "cell_type": "code",
   "execution_count": 18,
   "id": "driving-hybrid",
   "metadata": {},
   "outputs": [
    {
     "name": "stdout",
     "output_type": "stream",
     "text": [
      "[35 79]\n"
     ]
    }
   ],
   "source": [
    "print(v3)"
   ]
  },
  {
   "cell_type": "code",
   "execution_count": 19,
   "id": "close-consequence",
   "metadata": {},
   "outputs": [
    {
     "name": "stdout",
     "output_type": "stream",
     "text": [
      "[105 237]\n"
     ]
    }
   ],
   "source": [
    "print(3*v3)"
   ]
  },
  {
   "cell_type": "code",
   "execution_count": 35,
   "id": "israeli-spider",
   "metadata": {},
   "outputs": [
    {
     "name": "stdout",
     "output_type": "stream",
     "text": [
      "[array([12, 38, 33, 22]), array([12, 38, 33, 22]), array([12, 38, 33, 22])]\n"
     ]
    }
   ],
   "source": [
    "blist = [12,38,33,22]\n",
    "print(3*[np.array(blist)])"
   ]
  }
 ],
 "metadata": {
  "kernelspec": {
   "display_name": "Python 3",
   "language": "python",
   "name": "python3"
  },
  "language_info": {
   "codemirror_mode": {
    "name": "ipython",
    "version": 3
   },
   "file_extension": ".py",
   "mimetype": "text/x-python",
   "name": "python",
   "nbconvert_exporter": "python",
   "pygments_lexer": "ipython3",
   "version": "3.9.1"
  }
 },
 "nbformat": 4,
 "nbformat_minor": 5
}
