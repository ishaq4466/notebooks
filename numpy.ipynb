{
 "cells": [
  {
   "cell_type": "code",
   "execution_count": 1,
   "id": "insured-lawsuit",
   "metadata": {},
   "outputs": [],
   "source": [
    "import numpy as np"
   ]
  },
  {
   "cell_type": "code",
   "execution_count": 2,
   "id": "cognitive-bicycle",
   "metadata": {},
   "outputs": [],
   "source": [
    "alist = [1,34,5,54,55]"
   ]
  },
  {
   "cell_type": "code",
   "execution_count": 3,
   "id": "undefined-spokesman",
   "metadata": {},
   "outputs": [],
   "source": [
    "arr = np.array(alist)"
   ]
  },
  {
   "cell_type": "code",
   "execution_count": 4,
   "id": "iraqi-corruption",
   "metadata": {},
   "outputs": [
    {
     "name": "stdout",
     "output_type": "stream",
     "text": [
      "[ 1 34  5 54 55]\n"
     ]
    }
   ],
   "source": [
    "print(arr)"
   ]
  },
  {
   "cell_type": "code",
   "execution_count": 5,
   "id": "viral-dividend",
   "metadata": {},
   "outputs": [
    {
     "data": {
      "text/plain": [
       "55"
      ]
     },
     "execution_count": 5,
     "metadata": {},
     "output_type": "execute_result"
    }
   ],
   "source": [
    "arr.max()"
   ]
  },
  {
   "cell_type": "code",
   "execution_count": 6,
   "id": "offshore-lewis",
   "metadata": {},
   "outputs": [
    {
     "data": {
      "text/plain": [
       "29.8"
      ]
     },
     "execution_count": 6,
     "metadata": {},
     "output_type": "execute_result"
    }
   ],
   "source": [
    "arr.mean()"
   ]
  },
  {
   "cell_type": "code",
   "execution_count": null,
   "id": "purple-invitation",
   "metadata": {},
   "outputs": [],
   "source": [
    "# vector addition\n",
    "v1 = np.array([1,8])\n",
    "v2 = np.array([9,9])\n",
    "v3 = v1 + v2\n",
    "print(v3)"
   ]
  },
  {
   "cell_type": "code",
   "execution_count": null,
   "id": "weird-identification",
   "metadata": {},
   "outputs": [],
   "source": [
    "# multiplying scalar to a vector\n",
    "print(v3*2)"
   ]
  },
  {
   "cell_type": "code",
   "execution_count": null,
   "id": "valued-reggae",
   "metadata": {},
   "outputs": [],
   "source": [
    "# dot product\n",
    "v3 = v1*v2\n",
    "print(v3)"
   ]
  },
  {
   "cell_type": "code",
   "execution_count": 9,
   "id": "progressive-scholarship",
   "metadata": {},
   "outputs": [],
   "source": [
    "import matplotlib.pyplot as plt\n",
    "\n",
    "# linspace, will create a dummy dataset e^4 \n",
    "x = np.linspace(0,np.e**4,50)\n"
   ]
  },
  {
   "cell_type": "code",
   "execution_count": 10,
   "id": "solar-hayes",
   "metadata": {},
   "outputs": [
    {
     "name": "stderr",
     "output_type": "stream",
     "text": [
      "<ipython-input-10-f74e3f4aaf04>:1: RuntimeWarning: divide by zero encountered in log\n",
      "  y=np.log(x)\n"
     ]
    }
   ],
   "source": [
    "y=np.log(x)\n"
   ]
  },
  {
   "cell_type": "code",
   "execution_count": 11,
   "id": "accomplished-fountain",
   "metadata": {},
   "outputs": [
    {
     "data": {
      "text/plain": [
       "[<matplotlib.lines.Line2D at 0x7f281a457af0>]"
      ]
     },
     "execution_count": 11,
     "metadata": {},
     "output_type": "execute_result"
    },
    {
     "data": {
      "image/png": "[encoded data removed]",
      "text/plain": [
       "<Figure size 432x288 with 1 Axes>"
      ]
     },
     "metadata": {
      "needs_background": "light"
     },
     "output_type": "display_data"
    }
   ],
   "source": [
    "plt.plot(y)\n"
   ]
  }
 ],
 "metadata": {
  "kernelspec": {
   "display_name": "Python 3",
   "language": "python",
   "name": "python3"
  },
  "language_info": {
   "codemirror_mode": {
    "name": "ipython",
    "version": 3
   },
   "file_extension": ".py",
   "mimetype": "text/x-python",
   "name": "python",
   "nbconvert_exporter": "python",
   "pygments_lexer": "ipython3",
   "version": "3.9.1"
  }
 },
 "nbformat": 4,
 "nbformat_minor": 5
}
